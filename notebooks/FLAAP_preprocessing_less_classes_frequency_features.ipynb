{
 "cells": [
  {
   "cell_type": "markdown",
   "metadata": {},
   "source": [
    "## Preprocess of the mHealth dataset\n",
    "\n",
    "- Loading the initial dataset(s)\n",
    "- Dropping the columns that are not needed\n",
    "- Renaming the columns\n",
    "- Removing labels or concatening them\n",
    "- Changing the NaN Label values to 0 and converting the labels to int\n",
    "- Cleaning the data\n",
    "- Lowpass filter\n",
    "- Downsampling signal\n",
    "- Calculating the acceleration magnitude as feature\n",
    "- Splitting the data into windows and features\n",
    "- Remove unused labels(after extracting windows)\n",
    "- Saving the datasets per users and concatenated"
   ]
  },
  {
   "cell_type": "code",
   "execution_count": 1,
   "metadata": {},
   "outputs": [],
   "source": [
    "# Importing libraries needed\n",
    "import os\n",
    "import sys\n",
    "from datetime import datetime\n",
    "\n",
    "import pandas as pd\n",
    "import numpy as np\n",
    "\n",
    "sys.path.append(os.path.abspath(os.path.join('../src/utils/')))\n",
    "import feature_extraction\n",
    "import preprocessing\n",
    "import downsampling"
   ]
  },
  {
   "cell_type": "code",
   "execution_count": 2,
   "metadata": {},
   "outputs": [],
   "source": [
    "# Read the raw data\n",
    "user_id_dataframes = []\n",
    "dataset_path = r'../data/activity_recognition_FLAAP/'\n",
    "for user_id in os.listdir(dataset_path):\n",
    "    if user_id.endswith('.csv'):\n",
    "        user_id_dataframes.append(pd.read_csv(dataset_path + user_id))"
   ]
  },
  {
   "cell_type": "code",
   "execution_count": 3,
   "metadata": {},
   "outputs": [
    {
     "name": "stdout",
     "output_type": "stream",
     "text": [
      "<class 'pandas.core.frame.DataFrame'>\n",
      "RangeIndex: 380154 entries, 0 to 380153\n",
      "Data columns (total 5 columns):\n",
      " #   Column        Non-Null Count   Dtype  \n",
      "---  ------        --------------   -----  \n",
      " 0   TimestampAcc  380154 non-null  float64\n",
      " 1   Acc_X         380154 non-null  float64\n",
      " 2   Acc_Y         380154 non-null  float64\n",
      " 3   Acc_Z         380154 non-null  float64\n",
      " 4   Activity      380154 non-null  object \n",
      "dtypes: float64(4), object(1)\n",
      "memory usage: 14.5+ MB\n",
      "None\n",
      "<class 'pandas.core.frame.DataFrame'>\n",
      "RangeIndex: 425214 entries, 0 to 425213\n",
      "Data columns (total 5 columns):\n",
      " #   Column        Non-Null Count   Dtype  \n",
      "---  ------        --------------   -----  \n",
      " 0   TimestampAcc  425214 non-null  float64\n",
      " 1   Acc_X         425214 non-null  float64\n",
      " 2   Acc_Y         425214 non-null  float64\n",
      " 3   Acc_Z         425214 non-null  float64\n",
      " 4   Activity      425214 non-null  object \n",
      "dtypes: float64(4), object(1)\n",
      "memory usage: 16.2+ MB\n",
      "None\n",
      "<class 'pandas.core.frame.DataFrame'>\n",
      "RangeIndex: 402482 entries, 0 to 402481\n",
      "Data columns (total 5 columns):\n",
      " #   Column        Non-Null Count   Dtype  \n",
      "---  ------        --------------   -----  \n",
      " 0   TimestampAcc  402482 non-null  float64\n",
      " 1   Acc_X         402482 non-null  float64\n",
      " 2   Acc_Y         402482 non-null  float64\n",
      " 3   Acc_Z         402482 non-null  float64\n",
      " 4   Activity      402482 non-null  object \n",
      "dtypes: float64(4), object(1)\n",
      "memory usage: 15.4+ MB\n",
      "None\n",
      "<class 'pandas.core.frame.DataFrame'>\n",
      "RangeIndex: 467038 entries, 0 to 467037\n",
      "Data columns (total 5 columns):\n",
      " #   Column        Non-Null Count   Dtype  \n",
      "---  ------        --------------   -----  \n",
      " 0   TimestampAcc  467038 non-null  float64\n",
      " 1   Acc_X         467038 non-null  float64\n",
      " 2   Acc_Y         467038 non-null  float64\n",
      " 3   Acc_Z         467038 non-null  float64\n",
      " 4   Activity      467038 non-null  object \n",
      "dtypes: float64(4), object(1)\n",
      "memory usage: 17.8+ MB\n",
      "None\n",
      "<class 'pandas.core.frame.DataFrame'>\n",
      "RangeIndex: 285844 entries, 0 to 285843\n",
      "Data columns (total 5 columns):\n",
      " #   Column        Non-Null Count   Dtype  \n",
      "---  ------        --------------   -----  \n",
      " 0   TimestampAcc  285844 non-null  float64\n",
      " 1   Acc_X         285844 non-null  float64\n",
      " 2   Acc_Y         285844 non-null  float64\n",
      " 3   Acc_Z         285844 non-null  float64\n",
      " 4   Activity      285844 non-null  object \n",
      "dtypes: float64(4), object(1)\n",
      "memory usage: 10.9+ MB\n",
      "None\n",
      "<class 'pandas.core.frame.DataFrame'>\n",
      "RangeIndex: 368868 entries, 0 to 368867\n",
      "Data columns (total 5 columns):\n",
      " #   Column        Non-Null Count   Dtype  \n",
      "---  ------        --------------   -----  \n",
      " 0   TimestampAcc  368868 non-null  float64\n",
      " 1   Acc_X         368868 non-null  float64\n",
      " 2   Acc_Y         368868 non-null  float64\n",
      " 3   Acc_Z         368868 non-null  float64\n",
      " 4   Activity      368868 non-null  object \n",
      "dtypes: float64(4), object(1)\n",
      "memory usage: 14.1+ MB\n",
      "None\n",
      "<class 'pandas.core.frame.DataFrame'>\n",
      "RangeIndex: 425885 entries, 0 to 425884\n",
      "Data columns (total 5 columns):\n",
      " #   Column        Non-Null Count   Dtype  \n",
      "---  ------        --------------   -----  \n",
      " 0   TimestampAcc  425885 non-null  float64\n",
      " 1   Acc_X         425885 non-null  float64\n",
      " 2   Acc_Y         425885 non-null  float64\n",
      " 3   Acc_Z         425885 non-null  float64\n",
      " 4   Activity      425885 non-null  object \n",
      "dtypes: float64(4), object(1)\n",
      "memory usage: 16.2+ MB\n",
      "None\n",
      "<class 'pandas.core.frame.DataFrame'>\n",
      "RangeIndex: 211221 entries, 0 to 211220\n",
      "Data columns (total 5 columns):\n",
      " #   Column        Non-Null Count   Dtype  \n",
      "---  ------        --------------   -----  \n",
      " 0   TimestampAcc  211221 non-null  float64\n",
      " 1   Acc_X         211221 non-null  float64\n",
      " 2   Acc_Y         211221 non-null  float64\n",
      " 3   Acc_Z         211221 non-null  float64\n",
      " 4   Activity      211221 non-null  object \n",
      "dtypes: float64(4), object(1)\n",
      "memory usage: 8.1+ MB\n",
      "None\n"
     ]
    }
   ],
   "source": [
    "# Checking the basic info of the data\n",
    "for user_id_dataframe in user_id_dataframes:\n",
    "    print(user_id_dataframe.info())"
   ]
  },
  {
   "cell_type": "code",
   "execution_count": 4,
   "metadata": {},
   "outputs": [],
   "source": [
    "# Rename the columns\n",
    "for user_id_dataframe in user_id_dataframes:\n",
    "    user_id_dataframe.columns = ['Timestamp', 'Acc.X.Center', 'Acc.Y.Center', 'Acc.Z.Center', 'Label']"
   ]
  },
  {
   "cell_type": "code",
   "execution_count": 5,
   "metadata": {},
   "outputs": [
    {
     "data": {
      "text/html": [
       "<div>\n",
       "<style scoped>\n",
       "    .dataframe tbody tr th:only-of-type {\n",
       "        vertical-align: middle;\n",
       "    }\n",
       "\n",
       "    .dataframe tbody tr th {\n",
       "        vertical-align: top;\n",
       "    }\n",
       "\n",
       "    .dataframe thead th {\n",
       "        text-align: right;\n",
       "    }\n",
       "</style>\n",
       "<table border=\"1\" class=\"dataframe\">\n",
       "  <thead>\n",
       "    <tr style=\"text-align: right;\">\n",
       "      <th></th>\n",
       "      <th>Timestamp</th>\n",
       "      <th>Acc.X.Center</th>\n",
       "      <th>Acc.Y.Center</th>\n",
       "      <th>Acc.Z.Center</th>\n",
       "      <th>Label</th>\n",
       "    </tr>\n",
       "  </thead>\n",
       "  <tbody>\n",
       "    <tr>\n",
       "      <th>0</th>\n",
       "      <td>1.650000e+12</td>\n",
       "      <td>-0.809240</td>\n",
       "      <td>4.122815</td>\n",
       "      <td>8.734048</td>\n",
       "      <td>Walking</td>\n",
       "    </tr>\n",
       "    <tr>\n",
       "      <th>1</th>\n",
       "      <td>1.650000e+12</td>\n",
       "      <td>-0.883460</td>\n",
       "      <td>4.110844</td>\n",
       "      <td>8.714894</td>\n",
       "      <td>Walking</td>\n",
       "    </tr>\n",
       "    <tr>\n",
       "      <th>2</th>\n",
       "      <td>1.650000e+12</td>\n",
       "      <td>-0.905008</td>\n",
       "      <td>4.101267</td>\n",
       "      <td>8.698134</td>\n",
       "      <td>Walking</td>\n",
       "    </tr>\n",
       "    <tr>\n",
       "      <th>3</th>\n",
       "      <td>1.650000e+12</td>\n",
       "      <td>-0.890643</td>\n",
       "      <td>4.122815</td>\n",
       "      <td>8.693346</td>\n",
       "      <td>Walking</td>\n",
       "    </tr>\n",
       "    <tr>\n",
       "      <th>4</th>\n",
       "      <td>1.650000e+12</td>\n",
       "      <td>-0.837971</td>\n",
       "      <td>4.118027</td>\n",
       "      <td>8.734048</td>\n",
       "      <td>Walking</td>\n",
       "    </tr>\n",
       "  </tbody>\n",
       "</table>\n",
       "</div>"
      ],
      "text/plain": [
       "      Timestamp  Acc.X.Center  Acc.Y.Center  Acc.Z.Center    Label\n",
       "0  1.650000e+12     -0.809240      4.122815      8.734048  Walking\n",
       "1  1.650000e+12     -0.883460      4.110844      8.714894  Walking\n",
       "2  1.650000e+12     -0.905008      4.101267      8.698134  Walking\n",
       "3  1.650000e+12     -0.890643      4.122815      8.693346  Walking\n",
       "4  1.650000e+12     -0.837971      4.118027      8.734048  Walking"
      ]
     },
     "execution_count": 5,
     "metadata": {},
     "output_type": "execute_result"
    }
   ],
   "source": [
    "# Checking the changes\n",
    "user_id_dataframes[0].head()"
   ]
  },
  {
   "cell_type": "code",
   "execution_count": 6,
   "metadata": {},
   "outputs": [
    {
     "name": "stdout",
     "output_type": "stream",
     "text": [
      "['CrossLeg', 'CirWalk', 'Sitting', 'SitUp', 'StairDown', 'Laying', 'Walking', 'Jogging', 'StairUp', 'Standing']\n"
     ]
    }
   ],
   "source": [
    "# Checking the unique values of the labels\n",
    "labels = []\n",
    "for user_id_dataframe in user_id_dataframes:\n",
    "    labels.extend(user_id_dataframe['Label'].unique())\n",
    "labels = list(set(labels))\n",
    "print(labels)"
   ]
  },
  {
   "cell_type": "code",
   "execution_count": 7,
   "metadata": {},
   "outputs": [],
   "source": [
    "# StairsDown and StairsUp are changed to Stairs\n",
    "for user_id_dataframe in user_id_dataframes:\n",
    "    user_id_dataframe['Label'] = user_id_dataframe['Label'].replace(['Laying', 'Sitting', 'Standing', 'CrossLeg'], 'Still')\n",
    "    user_id_dataframe['Label'] = user_id_dataframe['Label'].replace(['StairDown', 'StairUp'], 'Stairs')\n",
    "    user_id_dataframe['Label'] = user_id_dataframe['Label'].replace(['Walking', 'CirWalk'], 'Walking')"
   ]
  },
  {
   "cell_type": "code",
   "execution_count": 8,
   "metadata": {},
   "outputs": [
    {
     "name": "stdout",
     "output_type": "stream",
     "text": [
      "['Stairs', 'SitUp', 'Still', 'Walking', 'Jogging']\n"
     ]
    }
   ],
   "source": [
    "# Checking the unique values of the labels\n",
    "labels = []\n",
    "for user_id_dataframe in user_id_dataframes:\n",
    "    labels.extend(user_id_dataframe['Label'].unique())\n",
    "labels = list(set(labels))\n",
    "print(labels)"
   ]
  },
  {
   "cell_type": "code",
   "execution_count": 9,
   "metadata": {},
   "outputs": [],
   "source": [
    "map_dict = {'Still': 0, 'Walking': 1, 'Stairs': 2, 'Jogging': 3, 'SitUp': 4}\n",
    "for user_id_dataframe in user_id_dataframes:\n",
    "    user_id_dataframe['Label'] = user_id_dataframe['Label'].map(map_dict)"
   ]
  },
  {
   "cell_type": "code",
   "execution_count": 10,
   "metadata": {},
   "outputs": [
    {
     "name": "stdout",
     "output_type": "stream",
     "text": [
      "[0, 1, 2, 3, 4]\n"
     ]
    }
   ],
   "source": [
    "# Checking the unique values of the labels\n",
    "labels = []\n",
    "for user_id_dataframe in user_id_dataframes:\n",
    "    labels.extend(user_id_dataframe['Label'].unique())\n",
    "labels = list(set(labels))\n",
    "print(labels)"
   ]
  },
  {
   "cell_type": "code",
   "execution_count": 11,
   "metadata": {},
   "outputs": [
    {
     "data": {
      "text/html": [
       "<div>\n",
       "<style scoped>\n",
       "    .dataframe tbody tr th:only-of-type {\n",
       "        vertical-align: middle;\n",
       "    }\n",
       "\n",
       "    .dataframe tbody tr th {\n",
       "        vertical-align: top;\n",
       "    }\n",
       "\n",
       "    .dataframe thead th {\n",
       "        text-align: right;\n",
       "    }\n",
       "</style>\n",
       "<table border=\"1\" class=\"dataframe\">\n",
       "  <thead>\n",
       "    <tr style=\"text-align: right;\">\n",
       "      <th></th>\n",
       "      <th>Timestamp</th>\n",
       "      <th>Acc.X.Center</th>\n",
       "      <th>Acc.Y.Center</th>\n",
       "      <th>Acc.Z.Center</th>\n",
       "      <th>Label</th>\n",
       "    </tr>\n",
       "  </thead>\n",
       "  <tbody>\n",
       "    <tr>\n",
       "      <th>0</th>\n",
       "      <td>1.650000e+12</td>\n",
       "      <td>-0.809240</td>\n",
       "      <td>4.122815</td>\n",
       "      <td>8.734048</td>\n",
       "      <td>1</td>\n",
       "    </tr>\n",
       "    <tr>\n",
       "      <th>1</th>\n",
       "      <td>1.650000e+12</td>\n",
       "      <td>-0.883460</td>\n",
       "      <td>4.110844</td>\n",
       "      <td>8.714894</td>\n",
       "      <td>1</td>\n",
       "    </tr>\n",
       "    <tr>\n",
       "      <th>2</th>\n",
       "      <td>1.650000e+12</td>\n",
       "      <td>-0.905008</td>\n",
       "      <td>4.101267</td>\n",
       "      <td>8.698134</td>\n",
       "      <td>1</td>\n",
       "    </tr>\n",
       "    <tr>\n",
       "      <th>3</th>\n",
       "      <td>1.650000e+12</td>\n",
       "      <td>-0.890643</td>\n",
       "      <td>4.122815</td>\n",
       "      <td>8.693346</td>\n",
       "      <td>1</td>\n",
       "    </tr>\n",
       "    <tr>\n",
       "      <th>4</th>\n",
       "      <td>1.650000e+12</td>\n",
       "      <td>-0.837971</td>\n",
       "      <td>4.118027</td>\n",
       "      <td>8.734048</td>\n",
       "      <td>1</td>\n",
       "    </tr>\n",
       "  </tbody>\n",
       "</table>\n",
       "</div>"
      ],
      "text/plain": [
       "      Timestamp  Acc.X.Center  Acc.Y.Center  Acc.Z.Center  Label\n",
       "0  1.650000e+12     -0.809240      4.122815      8.734048      1\n",
       "1  1.650000e+12     -0.883460      4.110844      8.714894      1\n",
       "2  1.650000e+12     -0.905008      4.101267      8.698134      1\n",
       "3  1.650000e+12     -0.890643      4.122815      8.693346      1\n",
       "4  1.650000e+12     -0.837971      4.118027      8.734048      1"
      ]
     },
     "execution_count": 11,
     "metadata": {},
     "output_type": "execute_result"
    }
   ],
   "source": [
    "# Checking the changes\n",
    "user_id_dataframes[0].head()"
   ]
  },
  {
   "cell_type": "code",
   "execution_count": 12,
   "metadata": {},
   "outputs": [],
   "source": [
    "# Drop all the rows with NaN values\n",
    "for user_id_dataframe in user_id_dataframes:\n",
    "    user_id_dataframe.dropna(inplace=True)"
   ]
  },
  {
   "cell_type": "code",
   "execution_count": 13,
   "metadata": {},
   "outputs": [],
   "source": [
    "# Setting the parameters for the preprocessing\n",
    "old_sampling_frequency = 100\n",
    "new_sampling_frequency = 20\n",
    "cutoff_frequency = 5\n",
    "order = 3"
   ]
  },
  {
   "cell_type": "code",
   "execution_count": 14,
   "metadata": {},
   "outputs": [],
   "source": [
    "# Lowpass filter the sensor data and calculate the magnitude\n",
    "col_signals = ['Acc.X.Center','Acc.Y.Center','Acc.Z.Center']\n",
    "for user_id_dataframe in user_id_dataframes:\n",
    "    for col in col_signals:\n",
    "        user_id_dataframe[col] = preprocessing.lowpass_filter(user_id_dataframe[col], old_sampling_frequency, cutoff_frequency, order)\n",
    "        user_id_dataframe[col] = downsampling.downsample_signal(user_id_dataframe[col], old_sampling_frequency, new_sampling_frequency, None)\n",
    "    user_id_dataframe = preprocessing.calculate_mag(user_id_dataframe, col_signals)\n",
    "    labels = user_id_dataframe['Label']\n",
    "    user_id_dataframe.drop('Label', axis=1, inplace=True)\n",
    "    user_id_dataframe['Label'] = labels"
   ]
  },
  {
   "cell_type": "code",
   "execution_count": 15,
   "metadata": {},
   "outputs": [
    {
     "data": {
      "text/html": [
       "<div>\n",
       "<style scoped>\n",
       "    .dataframe tbody tr th:only-of-type {\n",
       "        vertical-align: middle;\n",
       "    }\n",
       "\n",
       "    .dataframe tbody tr th {\n",
       "        vertical-align: top;\n",
       "    }\n",
       "\n",
       "    .dataframe thead th {\n",
       "        text-align: right;\n",
       "    }\n",
       "</style>\n",
       "<table border=\"1\" class=\"dataframe\">\n",
       "  <thead>\n",
       "    <tr style=\"text-align: right;\">\n",
       "      <th></th>\n",
       "      <th>Timestamp</th>\n",
       "      <th>Acc.X.Center</th>\n",
       "      <th>Acc.Y.Center</th>\n",
       "      <th>Acc.Z.Center</th>\n",
       "      <th>Acc.Magnitude.Center</th>\n",
       "      <th>Label</th>\n",
       "    </tr>\n",
       "  </thead>\n",
       "  <tbody>\n",
       "    <tr>\n",
       "      <th>0</th>\n",
       "      <td>1.650000e+12</td>\n",
       "      <td>-0.797611</td>\n",
       "      <td>4.115096</td>\n",
       "      <td>8.748082</td>\n",
       "      <td>9.700471</td>\n",
       "      <td>1</td>\n",
       "    </tr>\n",
       "    <tr>\n",
       "      <th>1</th>\n",
       "      <td>1.650000e+12</td>\n",
       "      <td>-0.797611</td>\n",
       "      <td>4.115096</td>\n",
       "      <td>8.748082</td>\n",
       "      <td>9.700471</td>\n",
       "      <td>1</td>\n",
       "    </tr>\n",
       "    <tr>\n",
       "      <th>2</th>\n",
       "      <td>1.650000e+12</td>\n",
       "      <td>-0.797611</td>\n",
       "      <td>4.115096</td>\n",
       "      <td>8.748082</td>\n",
       "      <td>9.700471</td>\n",
       "      <td>1</td>\n",
       "    </tr>\n",
       "    <tr>\n",
       "      <th>3</th>\n",
       "      <td>1.650000e+12</td>\n",
       "      <td>-0.797611</td>\n",
       "      <td>4.115096</td>\n",
       "      <td>8.748082</td>\n",
       "      <td>9.700471</td>\n",
       "      <td>1</td>\n",
       "    </tr>\n",
       "    <tr>\n",
       "      <th>4</th>\n",
       "      <td>1.650000e+12</td>\n",
       "      <td>-0.797611</td>\n",
       "      <td>4.115096</td>\n",
       "      <td>8.748082</td>\n",
       "      <td>9.700471</td>\n",
       "      <td>1</td>\n",
       "    </tr>\n",
       "  </tbody>\n",
       "</table>\n",
       "</div>"
      ],
      "text/plain": [
       "      Timestamp  Acc.X.Center  Acc.Y.Center  Acc.Z.Center  \\\n",
       "0  1.650000e+12     -0.797611      4.115096      8.748082   \n",
       "1  1.650000e+12     -0.797611      4.115096      8.748082   \n",
       "2  1.650000e+12     -0.797611      4.115096      8.748082   \n",
       "3  1.650000e+12     -0.797611      4.115096      8.748082   \n",
       "4  1.650000e+12     -0.797611      4.115096      8.748082   \n",
       "\n",
       "   Acc.Magnitude.Center  Label  \n",
       "0              9.700471      1  \n",
       "1              9.700471      1  \n",
       "2              9.700471      1  \n",
       "3              9.700471      1  \n",
       "4              9.700471      1  "
      ]
     },
     "execution_count": 15,
     "metadata": {},
     "output_type": "execute_result"
    }
   ],
   "source": [
    "# Checking the changes\n",
    "user_id_dataframes[0].head()"
   ]
  },
  {
   "cell_type": "code",
   "execution_count": 18,
   "metadata": {},
   "outputs": [],
   "source": [
    "# Setting the parameters for the feature extraction\n",
    "window_duration = 0.3\n",
    "overlap = 0.3\n",
    "win_length = int(window_duration * new_sampling_frequency)\n",
    "overlap = int(overlap * new_sampling_frequency)\n",
    "col_extract = ['Acc.X.Center', 'Acc.Y.Center', 'Acc.Z.Center', 'Acc.Magnitude.Center']"
   ]
  },
  {
   "cell_type": "code",
   "execution_count": 19,
   "metadata": {},
   "outputs": [
    {
     "name": "stderr",
     "output_type": "stream",
     "text": [
      "d:\\Work\\HAR-Comparison-Privacy\\src\\utils\\feature_extraction.py:55: FutureWarning: Unlike other reduction functions (e.g. `skew`, `kurtosis`), the default behavior of `mode` typically preserves the axis it acts along. In SciPy 1.11.0, this behavior will change: the default value of `keepdims` will become False, the `axis` over which the statistic is taken will be eliminated, and the value None will no longer be accepted. Set `keepdims` to True or False to avoid this warning.\n",
      "  labels = np.apply_along_axis(lambda x: stats.mode(x).mode, 1, labels)\n",
      "d:\\Work\\HAR-Comparison-Privacy\\src\\utils\\feature_extraction.py:55: FutureWarning: Unlike other reduction functions (e.g. `skew`, `kurtosis`), the default behavior of `mode` typically preserves the axis it acts along. In SciPy 1.11.0, this behavior will change: the default value of `keepdims` will become False, the `axis` over which the statistic is taken will be eliminated, and the value None will no longer be accepted. Set `keepdims` to True or False to avoid this warning.\n",
      "  labels = np.apply_along_axis(lambda x: stats.mode(x).mode, 1, labels)\n",
      "d:\\Work\\HAR-Comparison-Privacy\\src\\utils\\feature_extraction.py:55: FutureWarning: Unlike other reduction functions (e.g. `skew`, `kurtosis`), the default behavior of `mode` typically preserves the axis it acts along. In SciPy 1.11.0, this behavior will change: the default value of `keepdims` will become False, the `axis` over which the statistic is taken will be eliminated, and the value None will no longer be accepted. Set `keepdims` to True or False to avoid this warning.\n",
      "  labels = np.apply_along_axis(lambda x: stats.mode(x).mode, 1, labels)\n",
      "d:\\Work\\HAR-Comparison-Privacy\\src\\utils\\feature_extraction.py:55: FutureWarning: Unlike other reduction functions (e.g. `skew`, `kurtosis`), the default behavior of `mode` typically preserves the axis it acts along. In SciPy 1.11.0, this behavior will change: the default value of `keepdims` will become False, the `axis` over which the statistic is taken will be eliminated, and the value None will no longer be accepted. Set `keepdims` to True or False to avoid this warning.\n",
      "  labels = np.apply_along_axis(lambda x: stats.mode(x).mode, 1, labels)\n",
      "d:\\Work\\HAR-Comparison-Privacy\\src\\utils\\feature_extraction.py:55: FutureWarning: Unlike other reduction functions (e.g. `skew`, `kurtosis`), the default behavior of `mode` typically preserves the axis it acts along. In SciPy 1.11.0, this behavior will change: the default value of `keepdims` will become False, the `axis` over which the statistic is taken will be eliminated, and the value None will no longer be accepted. Set `keepdims` to True or False to avoid this warning.\n",
      "  labels = np.apply_along_axis(lambda x: stats.mode(x).mode, 1, labels)\n",
      "d:\\Work\\HAR-Comparison-Privacy\\src\\utils\\feature_extraction.py:55: FutureWarning: Unlike other reduction functions (e.g. `skew`, `kurtosis`), the default behavior of `mode` typically preserves the axis it acts along. In SciPy 1.11.0, this behavior will change: the default value of `keepdims` will become False, the `axis` over which the statistic is taken will be eliminated, and the value None will no longer be accepted. Set `keepdims` to True or False to avoid this warning.\n",
      "  labels = np.apply_along_axis(lambda x: stats.mode(x).mode, 1, labels)\n",
      "d:\\Work\\HAR-Comparison-Privacy\\src\\utils\\feature_extraction.py:55: FutureWarning: Unlike other reduction functions (e.g. `skew`, `kurtosis`), the default behavior of `mode` typically preserves the axis it acts along. In SciPy 1.11.0, this behavior will change: the default value of `keepdims` will become False, the `axis` over which the statistic is taken will be eliminated, and the value None will no longer be accepted. Set `keepdims` to True or False to avoid this warning.\n",
      "  labels = np.apply_along_axis(lambda x: stats.mode(x).mode, 1, labels)\n",
      "d:\\Work\\HAR-Comparison-Privacy\\src\\utils\\feature_extraction.py:55: FutureWarning: Unlike other reduction functions (e.g. `skew`, `kurtosis`), the default behavior of `mode` typically preserves the axis it acts along. In SciPy 1.11.0, this behavior will change: the default value of `keepdims` will become False, the `axis` over which the statistic is taken will be eliminated, and the value None will no longer be accepted. Set `keepdims` to True or False to avoid this warning.\n",
      "  labels = np.apply_along_axis(lambda x: stats.mode(x).mode, 1, labels)\n"
     ]
    }
   ],
   "source": [
    "# Extracting the features and generating the labels for each user\n",
    "new_user_id_dataframes = []\n",
    "for user_id_dataframe in user_id_dataframes:\n",
    "    features = feature_extraction.calculate_features(user_id_dataframe, col_extract, win_length, overlap)\n",
    "    labels = feature_extraction.generate_labels(user_id_dataframe, 'Label', win_length, overlap)\n",
    "    features['Label'] = labels\n",
    "    new_user_id_dataframes.append(features)"
   ]
  },
  {
   "cell_type": "code",
   "execution_count": 20,
   "metadata": {},
   "outputs": [],
   "source": [
    "# Removing the label 0,6,7,8,9,12 and map 4 to 3 and 5 to 4\n",
    "new_dict_map = {4:np.nan}\n",
    "for user_id_dataframe in new_user_id_dataframes:\n",
    "    user_id_dataframe['Label'].replace(new_dict_map, inplace=True)\n",
    "    user_id_dataframe.dropna(inplace=True)"
   ]
  },
  {
   "cell_type": "code",
   "execution_count": 21,
   "metadata": {},
   "outputs": [
    {
     "name": "stdout",
     "output_type": "stream",
     "text": [
      "[0.0, 1.0, 2.0, 3.0]\n"
     ]
    }
   ],
   "source": [
    "# Checking the changes\n",
    "labels = []\n",
    "for user_id_dataframe in new_user_id_dataframes:\n",
    "    labels.extend(user_id_dataframe['Label'].unique())\n",
    "labels = list(set(labels))\n",
    "print(labels)"
   ]
  },
  {
   "cell_type": "code",
   "execution_count": 22,
   "metadata": {},
   "outputs": [],
   "source": [
    "# Saving the data\n",
    "processed_path = r\"../processed_data/activity_recognition_FLAAP_less_classes_frequency_features/\"\n",
    "all_users_data = pd.DataFrame()\n",
    "if not os.path.exists(processed_path):\n",
    "    os.makedirs(processed_path)\n",
    "for i in range(len(new_user_id_dataframes)):\n",
    "    new_user_id_dataframes[i].insert(0, 'User_ID', i+1)\n",
    "    new_user_id_dataframes[i].to_csv(processed_path + 'user_' + str(i+1) + '.csv', index=False)\n",
    "    all_users_data = pd.concat([all_users_data, new_user_id_dataframes[i]])\n",
    "all_users_data.to_csv(processed_path + 'all_users.csv', index=False)"
   ]
  }
 ],
 "metadata": {
  "kernelspec": {
   "display_name": "DataMLOps",
   "language": "python",
   "name": "python3"
  },
  "language_info": {
   "codemirror_mode": {
    "name": "ipython",
    "version": 3
   },
   "file_extension": ".py",
   "mimetype": "text/x-python",
   "name": "python",
   "nbconvert_exporter": "python",
   "pygments_lexer": "ipython3",
   "version": "3.9.13"
  }
 },
 "nbformat": 4,
 "nbformat_minor": 2
}
